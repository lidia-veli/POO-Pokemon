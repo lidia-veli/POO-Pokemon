{
 "cells": [
  {
   "attachments": {},
   "cell_type": "markdown",
   "metadata": {},
   "source": [
    "## get_data_from_user( *name_file* )"
   ]
  },
  {
   "cell_type": "code",
   "execution_count": 2,
   "metadata": {},
   "outputs": [
    {
     "name": "stdout",
     "output_type": "stream",
     "text": [
      "['11', 'Pikachu', 'headbutt', '69', '8', '8']\n",
      "['12', 'Pidgey', 'kick', '85', '7', '7']\n",
      "['13', 'Squirtle', 'elbow', '74', '7', '6']\n"
     ]
    }
   ],
   "source": [
    "import csv\n",
    "\n",
    "with open('data/coach_1_pokemons.csv', 'r') as csv_file:\n",
    "    csv_reader = csv.reader(csv_file, delimiter=',')\n",
    "    for row in csv_reader:\n",
    "        print(row)"
   ]
  },
  {
   "cell_type": "code",
   "execution_count": 3,
   "metadata": {},
   "outputs": [
    {
     "name": "stdout",
     "output_type": "stream",
     "text": [
      "[['11', 'Pikachu', 'headbutt', '69', '8', '8'], ['12', 'Pidgey', 'kick', '85', '7', '7'], ['13', 'Squirtle', 'elbow', '74', '7', '6']]\n"
     ]
    }
   ],
   "source": [
    "coach_1 = []\n",
    "\n",
    "with open('data/coach_1_pokemons.csv', 'r') as csv_file:\n",
    "    csv_reader = csv.reader(csv_file, delimiter=',')\n",
    "    for row in csv_reader:\n",
    "        coach_1.append(row)\n",
    "\n",
    "print(coach_1)"
   ]
  },
  {
   "cell_type": "code",
   "execution_count": 4,
   "metadata": {},
   "outputs": [
    {
     "name": "stdout",
     "output_type": "stream",
     "text": [
      "=============================================================\n",
      "Coach 1 Pokemons:\n",
      "Pokemon ID 11 with name Pikachu has as weapon HEADBUTT and health 69\n",
      "Pokemon ID 12 with name Pidgey has as weapon KICK and health 85\n",
      "Pokemon ID 13 with name Squirtle has as weapon ELBOW and health 74\n",
      "=============================================================\n",
      "Coach 2 Pokemons:\n",
      "Pokemon ID 24 with name Diglett has as weapon PUNCH and health 82\n",
      "Pokemon ID 25 with name Venusaur has as weapon KICK and health 78\n",
      "Pokemon ID 26 with name Charmeleon has as weapon ELBOW and health 88\n"
     ]
    }
   ],
   "source": [
    "from classes.pokemon import Pokemon\n",
    "from classes.weapon_type import WeaponType\n",
    "\n",
    "dict_weapon_type = {'punch':WeaponType.PUNCH, 'PUNCH':WeaponType.PUNCH,\n",
    "                    'kick':WeaponType.KICK, 'KICK':WeaponType.KICK,\n",
    "                    'headbutt':WeaponType.HEADBUTT, 'HEADBUTT':WeaponType.HEADBUTT,\n",
    "                    'elbow':WeaponType.ELBOW, 'ELBOW':WeaponType.ELBOW\n",
    "                    }\n",
    "\n",
    "def get_data_from_user(name_file):\n",
    "    \"\"\"Function to obtain data from each user.\n",
    "\n",
    "    This function obtains data from each user in order to set the configuration\n",
    "    of the Game.\n",
    "\n",
    "    Syntax\n",
    "    ------\n",
    "      [ ] = get_data_from_user(name_file)\n",
    "\n",
    "    Parameters\n",
    "    ----------\n",
    "      name_file str Name of the CSV file.\n",
    "\n",
    "    Returns\n",
    "    -------\n",
    "      list_pokemons List of Pokemons obtained from CSV .\n",
    "\n",
    "    Example\n",
    "    -------\n",
    "      >>> list_pokemons = get_data_from_user(\"file.csv\")\n",
    "    \"\"\"\n",
    "\n",
    "    # COMPROBAMOS QUE LOS PARAMETROS SON CORRECTOS\n",
    "    # nos aseguramos de que el parametro name_file es un string\n",
    "    if isinstance(name_file, str) is False:\n",
    "        raise TypeError(\"The name of the file must be a string.\")\n",
    "\n",
    "    else: \n",
    "        # y nos aseguramos de que el fichero existe\n",
    "        try:\n",
    "            list_pokemon_att = []  # lista de listas de atributos que definen un pokemon\n",
    "            with open(name_file, 'r', encoding=\"utf-8\") as csv_file:\n",
    "                csv_reader = csv.reader(csv_file, delimiter=',')\n",
    "                for row in csv_reader:\n",
    "                    list_pokemon_att.append(row)\n",
    "        \n",
    "        except FileNotFoundError:\n",
    "            print(\"The file does not exist.\")\n",
    "\n",
    "\n",
    "    # TRANSFORMAR CADA LISTA DE ATRIBUTOS POKEMON EN UN OBJETO TIPO POKEMON\n",
    "    list_pokemon_obj = []  # lista de objetos tipo Pokemon\n",
    "    for i in range(len(list_pokemon_att)):\n",
    "        pokemon = Pokemon( int(list_pokemon_att[i][0]), list_pokemon_att[i][1], dict_weapon_type[list_pokemon_att[i][2]], int(list_pokemon_att[i][3]), int(list_pokemon_att[i][4]), int(list_pokemon_att[i][5]) )\n",
    "        #                    identifyer                  name                    weapon_type                                health                       attack                       defense\n",
    "\n",
    "        # nos aseguramos de que el parámetro list_of_pokemons debe ser una lista de elementos de tipo Pokemon\n",
    "        description = f\"Pokemon ID {list_pokemon_att[i][0]} with name {list_pokemon_att[i][1]} has as weapon {list_pokemon_att[i][2].upper()} and health {list_pokemon_att[i][3]}\"\n",
    "        if bool(str(pokemon) == description) == False:\n",
    "            raise TypeError(\"The parameter list_of_pokemons must be a list of Pokemon-type elements.\")\n",
    "        else:\n",
    "            # es verdaderamente un objeto tipo Pokemon del formato deseado\n",
    "            list_pokemon_obj.append(pokemon)\n",
    "\n",
    "    # DEVOLVEMOS LA LISTA DE OBJETOS POKEMON\n",
    "    return list_pokemon_obj\n",
    "\n",
    "\n",
    "# TEST\n",
    "print('=============================================================')\n",
    "print('Coach 1 Pokemons:')\n",
    "for poke in get_data_from_user('data/coach_1_pokemons.csv'):\n",
    "    print(poke)\n",
    "print('=============================================================')\n",
    "print('Coach 2 Pokemons:')\n",
    "for poke in get_data_from_user('data/coach_2_pokemons.csv'):\n",
    "    print(poke)"
   ]
  },
  {
   "cell_type": "code",
   "execution_count": 81,
   "metadata": {},
   "outputs": [
    {
     "name": "stdout",
     "output_type": "stream",
     "text": [
      "4\n"
     ]
    }
   ],
   "source": [
    "try:\n",
    "    entrada = input(\"Introduce un entero: \")\n",
    "    entero = int(entrada)\n",
    "except ValueError:\n",
    "    print(\"No has introducido un entero.\")\n",
    "\n",
    "print(entero*2)"
   ]
  },
  {
   "attachments": {},
   "cell_type": "markdown",
   "metadata": {},
   "source": [
    "## get_pokemon_in_a_list_of_pokemons( coach, list_of_pokemons )"
   ]
  },
  {
   "attachments": {},
   "cell_type": "markdown",
   "metadata": {},
   "source": [
    "VERSIÓN 1: devuelve la lista de pokemons vivos"
   ]
  },
  {
   "cell_type": "code",
   "execution_count": 5,
   "metadata": {},
   "outputs": [],
   "source": [
    "from classes.pokemon import (Pokemon, conj_active_ids)\n",
    "\n",
    "def  get_pokemon_in_a_list_of_pokemons(coach_to_ask, list_of_pokemons):\n",
    "    \"\"\"Function to know the list of Pokemons that are associated to the Coach.\n",
    "\n",
    "    This function is used in order to know the list of Pokemos that are\n",
    "    associated to the coach. This function prints the result of this list, so\n",
    "    the user can select a Pokemon.\n",
    "\n",
    "    Syntax\n",
    "    ------\n",
    "        [ ] = get_pokemon_in_a_list_of_pokemons(coach_to_ask, list_of_pokemons):\n",
    "\n",
    "    Parameters\n",
    "    ----------\n",
    "        [in] coach_to_ask Coach to ask for her/his list of Pokemons.\n",
    "        [in] list_of_pokemons List of the Pokemons that are associated to the coach.\n",
    "\n",
    "    Returns\n",
    "    -------\n",
    "        List List of the Pokemons associaated to the coach that are undefeated.\n",
    "\n",
    "    Example\n",
    "    -------\n",
    "        >>> get_pokemon_in_a_list_of_pokemons(1, list_of_pokemons)\n",
    "    \"\"\"\n",
    "\n",
    "    # COMPROBAMOS QUE LOS PARÁMETROS SON CORRECTOS\n",
    "    # nos aseguramos de que el parámetro coach_to_ask es un entero\n",
    "    if isinstance(coach_to_ask, int) is False:\n",
    "        raise TypeError(\"The parameter coach_to_ask must be an integer.\")\n",
    "\n",
    "    # nos aseguramos de que el parámetro list_of_pokemons es una lista de elementos de tipo Pokemon\n",
    "    for i in range(len(list_of_pokemons)):\n",
    "        if isinstance(list_of_pokemons[i], Pokemon) is False:\n",
    "            raise TypeError(\"The parameter list_of_pokemons must be a list of Pokemon-type elements.\")\n",
    "\n",
    "\n",
    "   # QUITAMOS LOS POKEMONS QUE SE HAN QUEDADO SIN VIDA\n",
    "    for poke in list_of_pokemons:\n",
    "        if poke.is_alive() == False:  # si el pokemon no tiene vida\n",
    "            list_of_pokemons.remove(poke)  # quitamos el pokemon de la lista\n",
    "\n",
    "\n",
    "    # imprimir por pantalla la lista de pokemons para que el usuario pueda elegir\n",
    "    print(f\"Coach {coach_to_ask} has {len(list_of_pokemons)} pokemons:\")\n",
    "    for poke in list_of_pokemons:\n",
    "      print(f'Pokemon: {poke.get_pokemon_id()}. Name: {poke.get_pokemon_name()}. Weapon: {poke.get_weapon_type().name}. Health: {poke.get_health_points()}. Attack: {poke.get_attack_rating()}. Defense: {poke.get_defense_rating()}.')\n",
    "\n",
    "    \n",
    "    return list_of_pokemons"
   ]
  },
  {
   "cell_type": "code",
   "execution_count": 6,
   "metadata": {},
   "outputs": [
    {
     "name": "stdout",
     "output_type": "stream",
     "text": [
      "Coach 1 has 3 pokemons:\n",
      "Pokemon: 11. Name: Pikachu. Weapon: HEADBUTT. Health: 69. Attack: 8. Defense: 8.\n",
      "Pokemon: 12. Name: Pidgey. Weapon: KICK. Health: 85. Attack: 7. Defense: 7.\n",
      "Pokemon: 13. Name: Squirtle. Weapon: ELBOW. Health: 74. Attack: 7. Defense: 6.\n"
     ]
    },
    {
     "data": {
      "text/plain": [
       "[<classes.pokemon.Pokemon at 0x1dbab613ca0>,\n",
       " <classes.pokemon.Pokemon at 0x1dbab6137f0>,\n",
       " <classes.pokemon.Pokemon at 0x1dbab6139a0>]"
      ]
     },
     "execution_count": 6,
     "metadata": {},
     "output_type": "execute_result"
    }
   ],
   "source": [
    "pokemons_coach_1 = get_data_from_user('data/coach_1_pokemons.csv')\n",
    "pokemons_coach_2 = get_data_from_user('data/coach_2_pokemons.csv')\n",
    "\n",
    "get_pokemon_in_a_list_of_pokemons(1, pokemons_coach_1)"
   ]
  },
  {
   "attachments": {},
   "cell_type": "markdown",
   "metadata": {},
   "source": [
    "VERSIÓN 2: devuelve el pokemon elegido por el usuario de la lista de pokemons vivos"
   ]
  },
  {
   "cell_type": "code",
   "execution_count": 7,
   "metadata": {},
   "outputs": [],
   "source": [
    "import sys\n",
    "from classes.pokemon import (Pokemon, conj_active_ids)\n",
    "\n",
    "def  elegir_pokemon(coach_to_ask, list_of_pokemons):\n",
    "    \"\"\"Funcion para elegir un pokemon de la lista de pokemons de un entrenador.\"\"\"\n",
    "\n",
    "    # COMPROBAMOS QUE LOS PARÁMETROS SON CORRECTOS\n",
    "    # nos aseguramos de que el parámetro coach_to_ask es un entero\n",
    "    if isinstance(coach_to_ask, int) is False:\n",
    "        raise TypeError(\"The parameter coach_to_ask must be an integer.\")\n",
    "\n",
    "    # nos aseguramos de que el parámetro list_of_pokemons es una lista de elementos de tipo Pokemon\n",
    "    for i in range(len(list_of_pokemons)):\n",
    "        if isinstance(list_of_pokemons[i], Pokemon) is False:\n",
    "            raise TypeError(\"The parameter list_of_pokemons must be a list of Pokemon-type elements.\")\n",
    "\n",
    "\n",
    "    # EL USUARIO ELIGE EL SIGUIENTE POKEMON QUE QUIERE USAR\n",
    "    \n",
    "    # imprimir por pantalla la lista de pokemons para que el usuario pueda elegir\n",
    "    print(f\"Coach {coach_to_ask} has {len(list_of_pokemons)} pokemons:\")\n",
    "    for poke in list_of_pokemons:\n",
    "      print(f'Pokemon: {poke.get_pokemon_id()}. Name: {poke.get_pokemon_name()}. Weapon: {poke.get_weapon_type().name}. Health: {poke.get_health_points()}. Attack: {poke.get_attack_rating()}. Defense: {poke.get_defense_rating()}.')\n",
    "\n",
    "    # pedimos al usuario que elija un pokemon\n",
    "    entrada = input(\"Introduce the ID of the Pokemon you want to select: \")\n",
    "    try:  # nos aseguramos de que es un entero\n",
    "        poke_id = int(entrada)\n",
    "    except ValueError:\n",
    "        print(\"El ID del pokemon debe ser un entero.\")\n",
    "        sys.exit()  # forzamos la salida del programa\n",
    "    # y comprobamos que el ID está en el conjunto de IDs activos\n",
    "    if poke_id not in conj_active_ids:\n",
    "        print(\"El ID no corresponde a ningún pokemon activo.\")\n",
    "        sys.exit()  # forzamos la salida del programa\n",
    "    else:\n",
    "        pass\n",
    "\n",
    "    # recorremos la lista de pokemons hasta encontrar el pokemon con el ID introducido por el usuario\n",
    "    for poke in list_of_pokemons:\n",
    "        if poke.get_pokemon_id() == poke_id:\n",
    "            selected_pokemon = poke\n",
    "        else:\n",
    "            pass\n",
    "    \n",
    "    print('\\n')\n",
    "    print('Pokemon seleccionado', selected_pokemon.get_pokemon_name())\n",
    "    return selected_pokemon"
   ]
  },
  {
   "cell_type": "code",
   "execution_count": 9,
   "metadata": {},
   "outputs": [
    {
     "name": "stdout",
     "output_type": "stream",
     "text": [
      "Coach 1 has 3 pokemons:\n",
      "Pokemon: 11. Name: Pikachu. Weapon: HEADBUTT. Health: 69. Attack: 8. Defense: 8.\n",
      "Pokemon: 12. Name: Pidgey. Weapon: KICK. Health: 85. Attack: 7. Defense: 7.\n",
      "Pokemon: 13. Name: Squirtle. Weapon: ELBOW. Health: 74. Attack: 7. Defense: 6.\n",
      "\n",
      "\n",
      "Pokemon seleccionado Pidgey\n"
     ]
    },
    {
     "data": {
      "text/plain": [
       "<classes.pokemon.Pokemon at 0x1dbab4ed630>"
      ]
     },
     "execution_count": 9,
     "metadata": {},
     "output_type": "execute_result"
    }
   ],
   "source": [
    "elegir_pokemon(1, get_data_from_user('data/coach_1_pokemons.csv'))"
   ]
  },
  {
   "attachments": {},
   "cell_type": "markdown",
   "metadata": {},
   "source": [
    "### coach_is_defeated( list_of_pokemons )"
   ]
  },
  {
   "cell_type": "code",
   "execution_count": 8,
   "metadata": {},
   "outputs": [],
   "source": [
    "def coach_is_defeated(list_of_pokemons):\n",
    "    \"\"\"Function to know if the Coach has been defeated.\n",
    "\n",
    "    This function is used in order to know if the Coach is still undefeated.\n",
    "\n",
    "    Syntax\n",
    "    ------\n",
    "       [ ] = coach_is_defeated(list_of_pokemons)\n",
    "\n",
    "    Parameters\n",
    "    ----------\n",
    "       [in] list_of_pokemons List of the Pokemons that are associated to the\n",
    "                             coach.\n",
    "\n",
    "    Returns\n",
    "    -------\n",
    "       Boolean True if the coach has all her/his Pokemons defeated.\n",
    "               False if the coach has any Pokemon that is undefeated.\n",
    "\n",
    "    Example\n",
    "    -------\n",
    "       >>> coach_is_defeated(list_of_pokemons)\n",
    "    \"\"\"\n",
    "\n",
    "    if len(list_of_pokemons) == 0:\n",
    "        return True\n",
    "    else:\n",
    "        return False"
   ]
  },
  {
   "cell_type": "code",
   "execution_count": 14,
   "metadata": {},
   "outputs": [
    {
     "name": "stdout",
     "output_type": "stream",
     "text": [
      "{'', 12, 13, 24, 25, 26}\n",
      "{'', 11, 12, 13, 24, 25, 26}\n",
      "Coach 1 has 2 pokemons:\n",
      "Pokemon: 11. Name: Pikachu. Weapon: HEADBUTT. Health: 69. Attack: 8. Defense: 8.\n",
      "Pokemon: 12. Name: Pidgey. Weapon: KICK. Health: 85. Attack: 7. Defense: 7.\n"
     ]
    },
    {
     "data": {
      "text/plain": [
       "False"
      ]
     },
     "execution_count": 14,
     "metadata": {},
     "output_type": "execute_result"
    }
   ],
   "source": [
    "print(conj_active_ids)\n",
    "pokemons_list_1 = get_data_from_user('data/coach_1_pokemons.csv')  # lista pokemons entrenador 1\n",
    "pokemons_list_1[-1].set_health_points(0)  # el último pokemon se queda sin vida\n",
    "print(conj_active_ids)\n",
    "\n",
    "coach_is_defeated(get_pokemon_in_a_list_of_pokemons(1, pokemons_list_1))"
   ]
  },
  {
   "cell_type": "code",
   "execution_count": 26,
   "metadata": {},
   "outputs": [
    {
     "name": "stdout",
     "output_type": "stream",
     "text": [
      "Coach 1 has 1 pokemons:\n",
      "Pokemon: 11. Name: Pikachu. Weapon: HEADBUTT. Health: 69. Attack: 8. Defense: 8.\n"
     ]
    },
    {
     "data": {
      "text/plain": [
       "False"
      ]
     },
     "execution_count": 26,
     "metadata": {},
     "output_type": "execute_result"
    }
   ],
   "source": [
    "pokemons_list_1[-1].set_health_points(0)  # el último pokemon se queda sin vida\n",
    "coach_is_defeated(get_pokemon_in_a_list_of_pokemons(1, pokemons_list_1))"
   ]
  },
  {
   "cell_type": "code",
   "execution_count": 27,
   "metadata": {},
   "outputs": [
    {
     "name": "stdout",
     "output_type": "stream",
     "text": [
      "Coach 1 has 0 pokemons:\n"
     ]
    },
    {
     "data": {
      "text/plain": [
       "True"
      ]
     },
     "execution_count": 27,
     "metadata": {},
     "output_type": "execute_result"
    }
   ],
   "source": [
    "pokemons_list_1[-1].set_health_points(0)  # el último pokemon se queda sin vida\n",
    "coach_is_defeated(get_pokemon_in_a_list_of_pokemons(1, pokemons_list_1))"
   ]
  }
 ],
 "metadata": {
  "kernelspec": {
   "display_name": "Python 3",
   "language": "python",
   "name": "python3"
  },
  "language_info": {
   "codemirror_mode": {
    "name": "ipython",
    "version": 3
   },
   "file_extension": ".py",
   "mimetype": "text/x-python",
   "name": "python",
   "nbconvert_exporter": "python",
   "pygments_lexer": "ipython3",
   "version": "3.10.7"
  },
  "orig_nbformat": 4
 },
 "nbformat": 4,
 "nbformat_minor": 2
}
